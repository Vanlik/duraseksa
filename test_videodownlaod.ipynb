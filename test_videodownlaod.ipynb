{
 "cells": [
  {
   "cell_type": "code",
   "execution_count": 24,
   "id": "95981807",
   "metadata": {},
   "outputs": [],
   "source": [
    "from selenium import webdriver\n",
    "from selenium.webdriver.common.action_chains import ActionChains\n",
    "from selenium.common.exceptions import NoSuchElementException\n",
    "from selenium.common.exceptions import StaleElementReferenceException\n",
    "import pandas as pd\n",
    "import csv\n",
    "import time\n",
    "from collections import OrderedDict\n",
    "import re\n",
    "from webdriver_manager.chrome import ChromeDriverManager"
   ]
  },
  {
   "cell_type": "code",
   "execution_count": 25,
   "id": "a5964704",
   "metadata": {},
   "outputs": [
    {
     "name": "stderr",
     "output_type": "stream",
     "text": [
      "\n",
      "\n",
      "====== WebDriver manager ======\n",
      "Current google-chrome version is 92.0.4515\n",
      "Get LATEST driver version for 92.0.4515\n",
      "There is no [win32] chromedriver for browser 92.0.4515 in cache\n",
      "Get LATEST driver version for 92.0.4515\n",
      "Trying to download new driver from https://chromedriver.storage.googleapis.com/92.0.4515.107/chromedriver_win32.zip\n",
      "Driver has been saved in cache [C:\\Users\\Admin\\.wdm\\drivers\\chromedriver\\win32\\92.0.4515.107]\n"
     ]
    }
   ],
   "source": [
    "# my_path = \"\"\n",
    "driver = webdriver.Chrome(ChromeDriverManager().install())\n",
    "driver.get(\"https://yt1s.com/ph11\")"
   ]
  },
  {
   "cell_type": "code",
   "execution_count": null,
   "id": "5eac476d",
   "metadata": {},
   "outputs": [],
   "source": [
    "list_link_kh = ['https://bit.ly/2ASNUVx',\n",
    "'https://bit.ly/3f9UDJD',\n",
    "'https://bit.ly/2UtiMmx',\n",
    "'https://bit.ly/2zo0NGS',\n",
    "'https://bit.ly/30Uquu7',\n",
    "'https://bit.ly/3e4GE7A',\n",
    "'https://bit.ly/3190A5B',\n",
    "'https://bit.ly/2B3ego9',\n",
    "'https://bit.ly/2Ynobho',\n",
    "'https://bit.ly/37XMwO1',\n",
    "'https://bit.ly/2CdxvM5',\n",
    "'https://bit.ly/2VWqRRm',\n",
    "'https://bit.ly/3f7Sgr7',\n",
    "'https://bit.ly/2DpKUBl',\n",
    "'https://bit.ly/3eeLi2h',\n",
    "'https://bit.ly/2ZOgWOU',\n",
    "'https://bit.ly/3iMEcW2',\n",
    "'https://bit.ly/2Om56q7',\n",
    "'https://bit.ly/2WoivlY',\n",
    "'https://bit.ly/3h4rn7W',\n",
    "'https://bit.ly/39zgicz',\n",
    "'https://bit.ly/2WXtJhn',\n",
    "'https://bit.ly/3fZwYfT',\n",
    "'https://bit.ly/3hFVwec',\n",
    "'https://bit.ly/2P3Vq3P',\n",
    "]"
   ]
  },
  {
   "cell_type": "code",
   "execution_count": null,
   "id": "c84ef1bc",
   "metadata": {},
   "outputs": [],
   "source": [
    "list_link =[]\n",
    "for i in list_link_kh:\n",
    "    ele_link = driver.find_element_by_xpath(\"/html/body/div/div/div[3]/div[2]/div/a\")\n",
    "    links = ele_link.get_attribute('href')\n",
    "    list_link.append(link)"
   ]
  }
 ],
 "metadata": {
  "kernelspec": {
   "display_name": "Python 3 (ipykernel)",
   "language": "python",
   "name": "python3"
  },
  "language_info": {
   "codemirror_mode": {
    "name": "ipython",
    "version": 3
   },
   "file_extension": ".py",
   "mimetype": "text/x-python",
   "name": "python",
   "nbconvert_exporter": "python",
   "pygments_lexer": "ipython3",
   "version": "3.9.6"
  }
 },
 "nbformat": 4,
 "nbformat_minor": 5
}
