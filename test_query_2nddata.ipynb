{
 "cells": [
  {
   "cell_type": "code",
   "execution_count": 1,
   "metadata": {},
   "outputs": [],
   "source": [
    "#libraries\n",
    "import pandas as pd\n",
    "import numpy as np\n",
    "from IPython import display\n",
    "# from pymongo_test_insert import get_database #local library\n",
    "import pymongo\n",
    "from bson.objectid import ObjectId  #work with Object Id in Mongo\n",
    "# import get_collections #currently not working\n",
    "# dbname = get_database()"
   ]
  },
  {
   "cell_type": "markdown",
   "metadata": {},
   "source": [
    "## Overview of data\n",
    "There are 37 relational tables like the following (download [here](\n",
    "https://drive.google.com/file/d/1HomOYSpsXYQSAcCMMoW3oWu1FLN0r6pD/view?usp=sharing) for a better look) ![Data Schema](./db schema.png)\n",
    "\n",
    "Several tables are in interests such as __*students*__, __*courses*__, __*student_enrolls*__, __*course_contents*__"
   ]
  },
  {
   "cell_type": "code",
   "execution_count": 2,
   "metadata": {},
   "outputs": [
    {
     "name": "stdout",
     "output_type": "stream",
     "text": [
      "37 37\n"
     ]
    },
    {
     "name": "stderr",
     "output_type": "stream",
     "text": [
      "C:\\Users\\Admin\\AppData\\Local\\Temp/ipykernel_17128/1390454847.py:7: DeprecationWarning: collection_names is deprecated. Use list_collection_names instead.\n",
      "  collections1 = database1.collection_names(include_system_collections=False)\n",
      "C:\\Users\\Admin\\AppData\\Local\\Temp/ipykernel_17128/1390454847.py:8: DeprecationWarning: collection_names is deprecated. Use list_collection_names instead.\n",
      "  collections0 = database0.collection_names(include_system_collections=False)\n"
     ]
    }
   ],
   "source": [
    "#getting collections from db \"e-learning\": \n",
    "db_connect = pymongo.MongoClient('localhost', 27017) # change local host here\n",
    "database_name1 = \"elearning281021\" # change dbname here\n",
    "database_name0 = \"elearning\"\n",
    "database1 = db_connect[database_name1] #original data = 0\n",
    "database0 = db_connect[database_name0]\n",
    "collections1 = database1.collection_names(include_system_collections=False)\n",
    "collections0 = database0.collection_names(include_system_collections=False)\n",
    "print(len(collections1), len(collections0)) # number of collections"
   ]
  },
  {
   "cell_type": "code",
   "execution_count": 3,
   "metadata": {},
   "outputs": [],
   "source": [
    "# getting and converting data from each collections to dataframe\n",
    "for i in collections1:\n",
    "    collection_name = database1[i]\n",
    "    item_details = collection_name.find()\n",
    "    content = []\n",
    "    for item in item_details:\n",
    "        content.append(item)\n",
    "    globals()[\"df_\" + i] = pd.DataFrame(content) #generating dataframe files\n",
    "    pd.DataFrame(content).to_csv(\"./Data-28-10-21_csv/df_\"+ i + \".csv\", index = False) \n",
    "    # print(\"df_\" + i)"
   ]
  },
  {
   "cell_type": "markdown",
   "metadata": {},
   "source": [
    "## Enrollment\n",
    "- A student can choose to enroll in multiple courses, resulting in all number of courses, not students, being registered.\n",
    "- Run a code chunck below we get:\n",
    "\n",
    "By the way bong, I've been looking at the dashboard and the raw data that we have so far, and I found out that there are a lot more important indications that we miss out but can reproduce. For example, we can identify \"active learners\" by their activities in class (answer quizzes, discussion) as well as in the platform in general (numbers of class s/he has enrolled, questions bank participation). Also, we can "
   ]
  },
  {
   "cell_type": "code",
   "execution_count": 4,
   "metadata": {},
   "outputs": [
    {
     "name": "stdout",
     "output_type": "stream",
     "text": [
      "number of total courses being enrolled: 1306\n",
      "number of all UNIQUE courses being enrolled: 383 courses\n",
      "number of students enrolled in the courses: 507 students\n"
     ]
    }
   ],
   "source": [
    "#check number of student enrolled [student_enrolls]\n",
    "print(\"number of total courses being enrolled: \" + str(len(df_student_enrolls[\"students\"])))\n",
    "print(\"number of all UNIQUE courses being enrolled: \" + str(len(df_student_enrolls[\"courses\"].unique())) + \" courses\")\n",
    "print(\"number of students enrolled in the courses: \" + str(len(df_student_enrolls[\"students\"].unique())) + \" students\")"
   ]
  },
  {
   "cell_type": "markdown",
   "metadata": {},
   "source": [
    "## Active Learners\n",
    "### Defining __active students__ status:\n",
    "\n",
    "We proxy the variable based on 2 main conditions as following:\n",
    "\n",
    "➀ __watch duration__: \n",
    "\n",
    "- In seconds we identify those who have watched the video at least 70%-80% threshold, resulting in 1 __view count__.\n",
    "\n",
    "➁　__student activities__: \n",
    "\n",
    "- how active students engage in replying discussion, anwsering quizzes, asking questions. \n",
    "\n",
    "- number of completed class (df_student_activities[\"is_completed\"])\n",
    "\n",
    "➂ __number of classes enrolled__: not really convincing at all, but here for only neccessary condition. \n",
    "\n",
    "➃ __ranking__: \n",
    "\n",
    "- features top 5 students every months (5 **active users**/month)\n"
   ]
  },
  {
   "cell_type": "code",
   "execution_count": 16,
   "metadata": {},
   "outputs": [
    {
     "data": {
      "text/plain": [
       "0           NaN\n",
       "1           NaN\n",
       "2        1790.0\n",
       "3           NaN\n",
       "4           NaN\n",
       "          ...  \n",
       "32178       NaN\n",
       "32179       NaN\n",
       "32180       NaN\n",
       "32181       NaN\n",
       "32182       NaN\n",
       "Name: content_duration, Length: 32183, dtype: float64"
      ]
     },
     "execution_count": 16,
     "metadata": {},
     "output_type": "execute_result"
    }
   ],
   "source": [
    "#Define video view counts in [student_activities]\n",
    "df_course_contents['content_duration']"
   ]
  },
  {
   "cell_type": "code",
   "execution_count": 104,
   "metadata": {},
   "outputs": [
    {
     "data": {
      "text/plain": [
       "5    [6098c5ee572591105f050865, 6098a897e934b71019f...\n",
       "Name: course_contents, dtype: object"
      ]
     },
     "execution_count": 104,
     "metadata": {},
     "output_type": "execute_result"
    }
   ],
   "source": [
    "# Accessing lesson with respective ID in 2 ways\n",
    "#Way 1\n",
    "courses_content.loc[courses_content[\"_id\"] == ObjectId(\"6098a809ada1c61054ab9baf\")][[\"view_count\", \"course_contents\"]].iloc[:,1]\n",
    "#Way 2\n",
    "#find courses name in according with respective course ID\n",
    "## courses_content.loc[courses_content[\"_id\"] == \"condition to identify course id\"][\"name\"]\n",
    "# courses_content.loc[courses_content[\"_id\"] == course_contents_content.loc[course_contents_content[\"_id\"] == ObjectId(\"60b85eb9b7e0ea67ef830e68\")][\"courses\"].iloc[0]][\"name\"]"
   ]
  },
  {
   "cell_type": "code",
   "execution_count": 100,
   "metadata": {},
   "outputs": [
    {
     "data": {
      "text/plain": [
       "5    មេរៀនទី៧ ស្ថិតិ\n",
       "Name: name, dtype: object"
      ]
     },
     "execution_count": 100,
     "metadata": {},
     "output_type": "execute_result"
    }
   ],
   "source": [
    "#Course Enrollment: get which course are most enrolled\n",
    "## get connect with courses_content (id)\n",
    "student_enrolls_content[\"courses\"].describe() # 6098a809ada1c61054ab9baf with 18 frq\n",
    "\n",
    "#Getting name of which course gets enrolled the most\n",
    "courses_content.loc[courses_content[\"enrolled_count\"] == student_enrolls_content[\"courses\"].describe()[3], \"name\"]"
   ]
  },
  {
   "cell_type": "code",
   "execution_count": 109,
   "metadata": {},
   "outputs": [
    {
     "data": {
      "text/plain": [
       "[ObjectId('6098a6f3a3d06d13536860c2'),\n",
       " ObjectId('6098a6fa98a1111330b75837'),\n",
       " ObjectId('6098a7efe934b71019f583d7'),\n",
       " ObjectId('6098ade9adadc310362e413c'),\n",
       " ObjectId('6098b266572591105f050825'),\n",
       " ObjectId('6098b37be9db40107d742732'),\n",
       " ObjectId('6098c0ad946da8130d466d58'),\n",
       " ObjectId('6098e07e01c156105d56a58e'),\n",
       " ObjectId('6098e8b02f4c41131d66b8da'),\n",
       " ObjectId('6098ebdb84286213144b6d88'),\n",
       " ObjectId('6098edfeadadc310362e531c')]"
      ]
     },
     "execution_count": 109,
     "metadata": {},
     "output_type": "execute_result"
    }
   ],
   "source": [
    "courses_content[\"course_contents\"][0]"
   ]
  },
  {
   "cell_type": "code",
   "execution_count": 120,
   "metadata": {},
   "outputs": [
    {
     "data": {
      "text/plain": [
       "133"
      ]
     },
     "execution_count": 120,
     "metadata": {},
     "output_type": "execute_result"
    }
   ],
   "source": [
    "len(student_enrolls_content[\"students\"].unique())"
   ]
  },
  {
   "cell_type": "markdown",
   "metadata": {},
   "source": [
    "## Cleaning procedure\n",
    "\n",
    "- Checking relationships between [courses] and [course_contents]\n",
    "    - for each __\"id\"__ in __[courses]__ can have multiple __\"course_contents\"__\n",
    "    - __\"courses\"__ in __[student_enrolls]__ <-> __\"id\"__ in __[courses]__\n",
    "   "
   ]
  },
  {
   "cell_type": "code",
   "execution_count": 5,
   "metadata": {},
   "outputs": [],
   "source": [
    "#Satya's ID\n",
    "60981ece1e4b5a12ff6bf41d\n",
    "6098d8a0a33c5c13108d8ee0"
   ]
  },
  {
   "cell_type": "code",
   "execution_count": 265,
   "metadata": {},
   "outputs": [
    {
     "data": {
      "text/plain": [
       "[['ជំពូកទី៥: សមីការឌីផេរ៉ង់ស្យែល'],\n",
       " ['ជំពូកទី១ តារាងខួបនៃធាតុគីមី'],\n",
       " ['ជំពូកទី១៖ តារាងខួបនៃធាតុគីមី'],\n",
       " ['មេរៀនទី៧ ស្ថិតិ'],\n",
       " ['មេរៀនទី១៨ សូលីត'],\n",
       " ['ជំពូកទីី៤ គីមីសរីរាង្គ'],\n",
       " ['មេរៀនទី១៧ ពហុកោណ'],\n",
       " ['ជំពូកទី៥ អនុគមន៍'],\n",
       " ['មេរៀនទី១៧ ពហុកោណ'],\n",
       " ['ជំពូកទី៤ អេឡិចត្រូម៉ាញេទិច'],\n",
       " ['មេរៀនទី៨ ការសម្រេចចិត្ត'],\n",
       " ['ជំពូកទី៤ ដង្ហើម និងដំណឹកនាំ'],\n",
       " ['មេរៀនទី៧ ការជឿជាក់'],\n",
       " ['ជំពូកទី៣ ទឹក និងសូលុយស្យុង'],\n",
       " ['មេរៀនទី៧ ប្រពៃណីទំនៀមទម្លាប់'],\n",
       " ['មេរៀនទី១០ សមីការនៃបន្ទាត់'],\n",
       " ['ជំពូកទី៣ អគ្គិសនី'],\n",
       " ['ជំពូកទី៥ អាល់កុល និងថ្នាំជក់'],\n",
       " ['មេរៀនទី៥ ល្ខោន'],\n",
       " ['ជំពូកទី១ ពិភពលោក'],\n",
       " ['A'],\n",
       " ['ជំពូកទី១ ប្រវត្តិសាស្រ្តពិភពលោក'],\n",
       " ['មេរៀនទី៨ ប្រូបាប'],\n",
       " ['ជំពូកទី១ រស្មីសំយោគ'],\n",
       " ['មេរៀនទី១ ចំនួនអសនិទាន'],\n",
       " ['មេរៀនទី៧ រង្វាស់រង្វាល់'],\n",
       " ['មេរៀនទី១ ចំនួនគត់'],\n",
       " ['មេរៀនទី២ វិធីគុណ'],\n",
       " ['មេរៀនទី១ សេចក្ដីស្រលាញ់'],\n",
       " ['ជំពូក១ មេកានិច'],\n",
       " ['មេរៀនទី១ អក្សរសិល្ប៍ខេមរនិយម'],\n",
       " ['ជំពូកទី៤ អាំងតេក្រាល'],\n",
       " ['មេរៀនទី១ ទំហំ'],\n",
       " ['ជំពូកទី១ ប្រវត្តិសាស្ត្រពិភពលោក'],\n",
       " ['ជំពូក១ ស្វុីត'],\n",
       " ['ជំពូកទី១ កម្ដៅ'],\n",
       " ['ជំពូកទី៤ នាទីរបស់ប្រូតេអ៊ីុនក្នុងសារពាង្គកាយ'],\n",
       " ['មេរៀនទី៥ ចំនួនទសភាគ'],\n",
       " ['មេរៀនទី១ ចំនួន '],\n",
       " ['មេរៀនទី៨០  ថ្ងៃបុណ្យចូលឆ្នាំ ']]"
      ]
     },
     "execution_count": 265,
     "metadata": {},
     "output_type": "execute_result"
    }
   ],
   "source": [
    "#number and list of registered courses for each student ID\n",
    "list_courses_IDregistered = student_enrolls_content.loc[student_enrolls_content[\"students\"] == ObjectId(\"6098d8a0a33c5c13108d8ee0\")][\"courses\"].tolist()\n",
    "#for one registered course (ជំពូក) id refers to multiple lessons inside (មេរៀន)\n",
    "[courses_content.loc[courses_content[\"_id\"] == i][\"name\"].tolist() for i in list_courses_IDregistered]"
   ]
  },
  {
   "cell_type": "code",
   "execution_count": 440,
   "metadata": {},
   "outputs": [
    {
     "name": "stdout",
     "output_type": "stream",
     "text": [
      "['មេរៀនទី១: សមីការឌីផេរ៉ង់ស្យែលលីនេអ៊ែលំដាប់ទី១']\n",
      "['មេរៀនសមីការឌីផេរ៉ង់ស្យែលលីនេអ៊ែលំដាប់ទី១(Part1)']\n",
      "['មេរៀនសមីការឌីផេរ៉ង់ស្យែលលីនេអ៊ែលំដាប់ទី១ (Part 2-End)']\n",
      "['មេរៀនទី២: សមីការឌីផេរ៉ង់ស្យែលលីនេអ៊ែលំដាប់ទី២']\n",
      "['មេរៀនសមីការឌីផេរ៉ង់ស្យែលលីនេអ៊ែលំដាប់ទី២']\n",
      "['លំហាត់គំរូ Part1(1&2)']\n",
      "['លំហាត់គំរូ Part2(3)']\n"
     ]
    }
   ],
   "source": [
    "###getting course content \n",
    "### ?? why one course has multiple IDs?? --> \n",
    "content_in_course = courses_content.loc[courses_content[\"name\"] == 'ជំពូកទី៥: សមីការឌីផេរ៉ង់ស្យែល'][\"course_contents\"].tolist()\n",
    "for i in range(len(content_in_course)):\n",
    "    for j in range(len(content_in_course[i])):\n",
    "        print(course_contents_content.loc[course_contents_content[\"_id\"] == content_in_course[i][j]][\"name\"].tolist())\n",
    "        \n",
    "# course_contents_content.loc[course_contents_content[\"_id\"] == content_in_course[0][0]][\"name\"].tolist()\n",
    "#         course_contents_content.loc[course_contents_content[\"_id\"] == content_in_course[i][j]][\"name\"].tolist()"
   ]
  },
  {
   "cell_type": "code",
   "execution_count": 448,
   "metadata": {},
   "outputs": [
    {
     "data": {
      "text/plain": [
       "175.7"
      ]
     },
     "execution_count": 448,
     "metadata": {},
     "output_type": "execute_result"
    }
   ],
   "source": [
    "# len(student_activities_content.loc[student_activities_content[\"is_completed\"] == True][\"students\"].unique())\n",
    "import numpy as np\n",
    "np.nansum(student_activities_content[\"watch_duration\"])/3600"
   ]
  },
  {
   "cell_type": "code",
   "execution_count": 296,
   "metadata": {},
   "outputs": [
    {
     "data": {
      "text/plain": [
       "3    រូបវិទ្យា\n",
       "Name: name, dtype: object"
      ]
     },
     "execution_count": 296,
     "metadata": {},
     "output_type": "execute_result"
    }
   ],
   "source": [
    "#use subject id in [course] to get subject name\n",
    "subjects_content.loc[subjects_content[\"_id\"] == ObjectId(courses_content[\"subjects\"].unique().tolist()[4])][\"name\"]"
   ]
  },
  {
   "cell_type": "code",
   "execution_count": 451,
   "metadata": {},
   "outputs": [
    {
     "data": {
      "text/html": [
       "<div>\n",
       "<style scoped>\n",
       "    .dataframe tbody tr th:only-of-type {\n",
       "        vertical-align: middle;\n",
       "    }\n",
       "\n",
       "    .dataframe tbody tr th {\n",
       "        vertical-align: top;\n",
       "    }\n",
       "\n",
       "    .dataframe thead th {\n",
       "        text-align: right;\n",
       "    }\n",
       "</style>\n",
       "<table border=\"1\" class=\"dataframe\">\n",
       "  <thead>\n",
       "    <tr style=\"text-align: right;\">\n",
       "      <th></th>\n",
       "      <th>first_name</th>\n",
       "      <th>last_name</th>\n",
       "    </tr>\n",
       "  </thead>\n",
       "  <tbody>\n",
       "    <tr>\n",
       "      <th>10</th>\n",
       "      <td>Satsya</td>\n",
       "      <td>Nhoem</td>\n",
       "    </tr>\n",
       "  </tbody>\n",
       "</table>\n",
       "</div>"
      ],
      "text/plain": [
       "   first_name last_name\n",
       "10     Satsya     Nhoem"
      ]
     },
     "execution_count": 451,
     "metadata": {},
     "output_type": "execute_result"
    }
   ],
   "source": [
    "#find students with id\n",
    "students_content.loc[students_content[\"_id\"] == ObjectId(\"6098dab798a1111330b7623c\")][[\"first_name\", \"last_name\"]]"
   ]
  },
  {
   "cell_type": "code",
   "execution_count": 297,
   "metadata": {},
   "outputs": [
    {
     "data": {
      "text/plain": [
       "Index(['__v', '_id', 'address', 'createdAt', 'date_of_birth',\n",
       "       'default_schools', 'education_levels', 'first_name', 'gender',\n",
       "       'last_name', 'level_types', 'logins', 'profile_image', 'roles',\n",
       "       'status', 'updatedAt'],\n",
       "      dtype='object')"
      ]
     },
     "execution_count": 297,
     "metadata": {},
     "output_type": "execute_result"
    }
   ],
   "source": [
    "students_content.columns"
   ]
  },
  {
   "cell_type": "code",
   "execution_count": 304,
   "metadata": {},
   "outputs": [
    {
     "data": {
      "text/plain": [
       "5    មេរៀនទី៧ ស្ថិតិ\n",
       "Name: name, dtype: object"
      ]
     },
     "execution_count": 304,
     "metadata": {},
     "output_type": "execute_result"
    }
   ],
   "source": [
    "courses_content.loc[courses_content[\"_id\"]==favorite_courses_content.loc[favorite_courses_content[\"students\"]==ObjectId(\"6098d70301c156105d56a587\")][\"courses\"].tolist()[0]][\"name\"]\n",
    "#getting the most popular course"
   ]
  },
  {
   "cell_type": "code",
   "execution_count": 353,
   "metadata": {},
   "outputs": [
    {
     "name": "stdout",
     "output_type": "stream",
     "text": [
      "[(ObjectId('6098d8a0a33c5c13108d8ee0'), 40), (ObjectId('6095728f83c32a0468b97de0'), 16), (ObjectId('60d68de5147675465092b0ae'), 15)]\n",
      "  first_name last_name\n",
      "9     Satsya     Nhoem\n",
      "  first_name last_name\n",
      "0      lalin      jame\n",
      "   first_name last_name\n",
      "72    ជ័យខេមា        ឯម\n"
     ]
    }
   ],
   "source": [
    "# Getting top 3 students who registered the most\n",
    "from collections import Counter\n",
    "list_top_3 = Counter(student_enrolls_content[\"students\"].tolist()).most_common()[:3]\n",
    "# sorted(range(len(student_enrolls_content[\"students\"])), key= lambda i: student_enrolls_content[\"students\"][i], reverse=True)[:3]\n",
    "print(list_top_3)\n",
    "for j in list_top_3:\n",
    "    print(students_content.loc[students_content[\"_id\"]==j[0]][[\"first_name\",\"last_name\"]])"
   ]
  },
  {
   "cell_type": "code",
   "execution_count": 354,
   "metadata": {},
   "outputs": [
    {
     "data": {
      "text/plain": [
       "Index(['__v', '_id', 'address', 'createdAt', 'date_of_birth',\n",
       "       'default_schools', 'education_levels', 'first_name', 'gender',\n",
       "       'last_name', 'level_types', 'logins', 'profile_image', 'roles',\n",
       "       'status', 'updatedAt'],\n",
       "      dtype='object')"
      ]
     },
     "execution_count": 354,
     "metadata": {},
     "output_type": "execute_result"
    }
   ],
   "source": [
    "students_content.columns"
   ]
  },
  {
   "cell_type": "code",
   "execution_count": 343,
   "metadata": {},
   "outputs": [
    {
     "data": {
      "text/html": [
       "<div>\n",
       "<style scoped>\n",
       "    .dataframe tbody tr th:only-of-type {\n",
       "        vertical-align: middle;\n",
       "    }\n",
       "\n",
       "    .dataframe tbody tr th {\n",
       "        vertical-align: top;\n",
       "    }\n",
       "\n",
       "    .dataframe thead th {\n",
       "        text-align: right;\n",
       "    }\n",
       "</style>\n",
       "<table border=\"1\" class=\"dataframe\">\n",
       "  <thead>\n",
       "    <tr style=\"text-align: right;\">\n",
       "      <th></th>\n",
       "      <th>first_name</th>\n",
       "      <th>last_name</th>\n",
       "    </tr>\n",
       "  </thead>\n",
       "  <tbody>\n",
       "    <tr>\n",
       "      <th>9</th>\n",
       "      <td>Satsya</td>\n",
       "      <td>Nhoem</td>\n",
       "    </tr>\n",
       "  </tbody>\n",
       "</table>\n",
       "</div>"
      ],
      "text/plain": [
       "  first_name last_name\n",
       "9     Satsya     Nhoem"
      ]
     },
     "execution_count": 343,
     "metadata": {},
     "output_type": "execute_result"
    }
   ],
   "source": [
    "#getting students who registered the most in [student_enrolls]\n",
    "# students_content.loc[students_content[\"_id\"]==student_enrolls_content[\"students\"].describe()[2]][[\"first_name\",\"last_name\"]]\n",
    "students_content.loc[students_content[\"_id\"]==student_enrolls_content[\"students\"].describe()[2]][[\"first_name\",\"last_name\"]]"
   ]
  },
  {
   "cell_type": "code",
   "execution_count": 329,
   "metadata": {},
   "outputs": [
    {
     "data": {
      "text/plain": [
       "ObjectId('6095728f83c32a0468b97de0')"
      ]
     },
     "execution_count": 329,
     "metadata": {},
     "output_type": "execute_result"
    }
   ],
   "source": [
    "student_enrolls_content[\"students\"][0]"
   ]
  },
  {
   "cell_type": "code",
   "execution_count": 362,
   "metadata": {},
   "outputs": [
    {
     "data": {
      "text/plain": [
       "394"
      ]
     },
     "execution_count": 362,
     "metadata": {},
     "output_type": "execute_result"
    }
   ],
   "source": [
    "len(student_enrolls_content[\"students\"].tolist())"
   ]
  },
  {
   "cell_type": "code",
   "execution_count": 361,
   "metadata": {},
   "outputs": [
    {
     "data": {
      "text/plain": [
       "133"
      ]
     },
     "execution_count": 361,
     "metadata": {},
     "output_type": "execute_result"
    }
   ],
   "source": [
    "len(student_enrolls_content[\"students\"].unique())"
   ]
  },
  {
   "cell_type": "markdown",
   "metadata": {},
   "source": [
    "## Checking if students are actually learning\n",
    "- Students might register but not actually follow the lecture\n",
    "- Follow student activities, specifically looking into \"watch duration\" if that surpasses a certain threshold, we define that as \"__learner__\".\n",
    "- \"__active learner__\" those who *keep coming* and *active on discussion*, longer watch duration\n"
   ]
  },
  {
   "cell_type": "code",
   "execution_count": 452,
   "metadata": {},
   "outputs": [
    {
     "data": {
      "text/html": [
       "<div>\n",
       "<style scoped>\n",
       "    .dataframe tbody tr th:only-of-type {\n",
       "        vertical-align: middle;\n",
       "    }\n",
       "\n",
       "    .dataframe tbody tr th {\n",
       "        vertical-align: top;\n",
       "    }\n",
       "\n",
       "    .dataframe thead th {\n",
       "        text-align: right;\n",
       "    }\n",
       "</style>\n",
       "<table border=\"1\" class=\"dataframe\">\n",
       "  <thead>\n",
       "    <tr style=\"text-align: right;\">\n",
       "      <th></th>\n",
       "      <th>_id</th>\n",
       "      <th>role_name</th>\n",
       "    </tr>\n",
       "  </thead>\n",
       "  <tbody>\n",
       "    <tr>\n",
       "      <th>0</th>\n",
       "      <td>1.0</td>\n",
       "      <td>admin</td>\n",
       "    </tr>\n",
       "    <tr>\n",
       "      <th>1</th>\n",
       "      <td>3.0</td>\n",
       "      <td>teacher</td>\n",
       "    </tr>\n",
       "    <tr>\n",
       "      <th>2</th>\n",
       "      <td>5.0</td>\n",
       "      <td>reviewer</td>\n",
       "    </tr>\n",
       "    <tr>\n",
       "      <th>3</th>\n",
       "      <td>2.0</td>\n",
       "      <td>school</td>\n",
       "    </tr>\n",
       "    <tr>\n",
       "      <th>4</th>\n",
       "      <td>4.0</td>\n",
       "      <td>student</td>\n",
       "    </tr>\n",
       "  </tbody>\n",
       "</table>\n",
       "</div>"
      ],
      "text/plain": [
       "   _id role_name\n",
       "0  1.0     admin\n",
       "1  3.0   teacher\n",
       "2  5.0  reviewer\n",
       "3  2.0    school\n",
       "4  4.0   student"
      ]
     },
     "execution_count": 452,
     "metadata": {},
     "output_type": "execute_result"
    }
   ],
   "source": [
    "roles_content"
   ]
  },
  {
   "cell_type": "code",
   "execution_count": 453,
   "metadata": {},
   "outputs": [],
   "source": [
    "import pandas as pd\n",
    "import numpy as np\n",
    "from scipy.special import expit\n",
    "import seaborn as sns\n",
    "from matplotlib import pyplot as plt\n",
    "from matplotlib import style\n",
    "\n",
    "style.use(\"fivethirtyeight\")\n",
    "\n",
    "np.random.seed(123)\n",
    "n = 100\n",
    "tuition = np.random.normal(1000, 300, n).round()\n",
    "tablet = np.random.binomial(1, expit((tuition - tuition.mean()) / tuition.std())).astype(bool) # create binary variable\n",
    "enem_score = np.random.normal(200 - 50 * tablet + 0.7 * tuition, 200)\n",
    "enem_score = (enem_score - enem_score.min()) / enem_score.max()\n",
    "enem_score *= 1000"
   ]
  },
  {
   "cell_type": "code",
   "execution_count": 454,
   "metadata": {},
   "outputs": [
    {
     "data": {
      "text/plain": [
       "array([False,  True, False, False, False, False,  True, False,  True,\n",
       "       False,  True,  True,  True, False,  True, False,  True,  True,\n",
       "        True, False, False,  True, False,  True, False, False,  True,\n",
       "       False,  True, False, False, False, False, False, False,  True,\n",
       "       False, False, False,  True, False, False,  True, False, False,\n",
       "       False,  True, False,  True,  True, False,  True,  True,  True,\n",
       "       False,  True, False,  True, False, False,  True,  True,  True,\n",
       "       False,  True,  True, False, False, False, False,  True,  True,\n",
       "        True, False,  True,  True, False,  True, False, False,  True,\n",
       "       False,  True, False, False, False, False, False,  True, False,\n",
       "       False, False,  True,  True,  True,  True,  True, False,  True,\n",
       "        True])"
      ]
     },
     "execution_count": 454,
     "metadata": {},
     "output_type": "execute_result"
    }
   ],
   "source": [
    "tablet"
   ]
  },
  {
   "cell_type": "code",
   "execution_count": 455,
   "metadata": {},
   "outputs": [
    {
     "name": "stdout",
     "output_type": "stream",
     "text": [
      "Object `np.random.binomal` not found.\n"
     ]
    }
   ],
   "source": [
    "(data\n",
    " .assign(class_format = np.select(\n",
    "     [data[\"format_ol\"].astype(bool), data[\"format_blended\"].astype(bool)],\n",
    "     [\"online\", \"blended\"],\n",
    "     default=\"face_to_face\"\n",
    " ))\n",
    " .groupby([\"class_format\"])\n",
    " .mean())"
   ]
  },
  {
   "cell_type": "code",
   "execution_count": null,
   "metadata": {},
   "outputs": [],
   "source": []
  }
 ],
 "metadata": {
  "interpreter": {
   "hash": "dcacb0086e9a4f4eabd41c33bf4faac5ea0a3337ed3f5eff0680afa930572c04"
  },
  "kernelspec": {
   "display_name": "Python 3.9.6 64-bit",
   "name": "python3"
  },
  "language_info": {
   "codemirror_mode": {
    "name": "ipython",
    "version": 3
   },
   "file_extension": ".py",
   "mimetype": "text/x-python",
   "name": "python",
   "nbconvert_exporter": "python",
   "pygments_lexer": "ipython3",
   "version": "3.9.6"
  }
 },
 "nbformat": 4,
 "nbformat_minor": 2
}
