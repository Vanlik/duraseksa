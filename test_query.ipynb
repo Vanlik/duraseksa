{
 "cells": [
  {
   "cell_type": "code",
   "execution_count": 2,
   "metadata": {},
   "outputs": [],
   "source": [
    "#libraries\n",
    "import pandas as pd\n",
    "import numpy as np\n",
    "from IPython import display\n",
    "# from pymongo_test_insert import get_database #local library\n",
    "import pymongo\n",
    "from bson.objectid import ObjectId  #work with Object Id in Mongo\n",
    "# import get_collections #currently not working\n",
    "# dbname = get_database()"
   ]
  },
  {
   "cell_type": "markdown",
   "metadata": {},
   "source": [
    "## Overview of data\n",
    "There are 34 relational tables like the following (download [here](\n",
    "https://drive.google.com/file/d/1KPMmOTNAkgU2MLedgifrtYmhnr2b9qO0/view?usp=sharing) for a better look) ![Data Schema](db_schema.png)\n",
    "\n",
    "Several tables are in interests such as __*students*__, __*courses*__, __*student_enrolls*__, __*course_contents*__"
   ]
  },
  {
   "cell_type": "code",
   "execution_count": 3,
   "metadata": {},
   "outputs": [
    {
     "ename": "OperationFailure",
     "evalue": "BSON field 'listCollections.include_system_collections' is an unknown field., full error: {'ok': 0.0, 'errmsg': \"BSON field 'listCollections.include_system_collections' is an unknown field.\", 'code': 40415, 'codeName': 'Location40415'}",
     "output_type": "error",
     "traceback": [
      "\u001b[1;31m---------------------------------------------------------------------------\u001b[0m",
      "\u001b[1;31mOperationFailure\u001b[0m                          Traceback (most recent call last)",
      "\u001b[1;32m~\\AppData\\Local\\Temp/ipykernel_25608/34718544.py\u001b[0m in \u001b[0;36m<module>\u001b[1;34m\u001b[0m\n\u001b[0;32m      3\u001b[0m \u001b[0mdatabase_name\u001b[0m \u001b[1;33m=\u001b[0m \u001b[1;34m\"elearning\"\u001b[0m \u001b[1;31m# change dbname here\u001b[0m\u001b[1;33m\u001b[0m\u001b[1;33m\u001b[0m\u001b[0m\n\u001b[0;32m      4\u001b[0m \u001b[0mdatabase\u001b[0m \u001b[1;33m=\u001b[0m \u001b[0mdb_connect\u001b[0m\u001b[1;33m[\u001b[0m\u001b[0mdatabase_name\u001b[0m\u001b[1;33m]\u001b[0m\u001b[1;33m\u001b[0m\u001b[1;33m\u001b[0m\u001b[0m\n\u001b[1;32m----> 5\u001b[1;33m \u001b[0mcollections\u001b[0m \u001b[1;33m=\u001b[0m \u001b[0mdatabase\u001b[0m\u001b[1;33m.\u001b[0m\u001b[0mlist_collection_names\u001b[0m\u001b[1;33m(\u001b[0m\u001b[0minclude_system_collections\u001b[0m\u001b[1;33m=\u001b[0m\u001b[1;32mFalse\u001b[0m\u001b[1;33m)\u001b[0m\u001b[1;33m\u001b[0m\u001b[1;33m\u001b[0m\u001b[0m\n\u001b[0m\u001b[0;32m      6\u001b[0m \u001b[0mprint\u001b[0m\u001b[1;33m(\u001b[0m\u001b[0mlen\u001b[0m\u001b[1;33m(\u001b[0m\u001b[0mcollections\u001b[0m\u001b[1;33m)\u001b[0m\u001b[1;33m)\u001b[0m \u001b[1;31m# number of collections\u001b[0m\u001b[1;33m\u001b[0m\u001b[1;33m\u001b[0m\u001b[0m\n",
      "\u001b[1;32m~\\AppData\\Local\\Programs\\Python\\Python39\\lib\\site-packages\\pymongo\\database.py\u001b[0m in \u001b[0;36mlist_collection_names\u001b[1;34m(self, session, filter, **kwargs)\u001b[0m\n\u001b[0;32m    878\u001b[0m \u001b[1;33m\u001b[0m\u001b[0m\n\u001b[0;32m    879\u001b[0m         return [result[\"name\"]\n\u001b[1;32m--> 880\u001b[1;33m                 for result in self.list_collections(session=session, **kwargs)]\n\u001b[0m\u001b[0;32m    881\u001b[0m \u001b[1;33m\u001b[0m\u001b[0m\n\u001b[0;32m    882\u001b[0m     def collection_names(self, include_system_collections=True,\n",
      "\u001b[1;32m~\\AppData\\Local\\Programs\\Python\\Python39\\lib\\site-packages\\pymongo\\database.py\u001b[0m in \u001b[0;36mlist_collections\u001b[1;34m(self, session, filter, **kwargs)\u001b[0m\n\u001b[0;32m    840\u001b[0m                 **kwargs)\n\u001b[0;32m    841\u001b[0m \u001b[1;33m\u001b[0m\u001b[0m\n\u001b[1;32m--> 842\u001b[1;33m         return self.__client._retryable_read(\n\u001b[0m\u001b[0;32m    843\u001b[0m             _cmd, read_pref, session)\n\u001b[0;32m    844\u001b[0m \u001b[1;33m\u001b[0m\u001b[0m\n",
      "\u001b[1;32m~\\AppData\\Local\\Programs\\Python\\Python39\\lib\\site-packages\\pymongo\\mongo_client.py\u001b[0m in \u001b[0;36m_retryable_read\u001b[1;34m(self, func, read_pref, session, address, retryable)\u001b[0m\n\u001b[0;32m   1523\u001b[0m                         \u001b[1;31m# not support retryable reads, raise the last error.\u001b[0m\u001b[1;33m\u001b[0m\u001b[1;33m\u001b[0m\u001b[1;33m\u001b[0m\u001b[0m\n\u001b[0;32m   1524\u001b[0m                         \u001b[1;32mraise\u001b[0m \u001b[0mlast_error\u001b[0m\u001b[1;33m\u001b[0m\u001b[1;33m\u001b[0m\u001b[0m\n\u001b[1;32m-> 1525\u001b[1;33m                     \u001b[1;32mreturn\u001b[0m \u001b[0mfunc\u001b[0m\u001b[1;33m(\u001b[0m\u001b[0msession\u001b[0m\u001b[1;33m,\u001b[0m \u001b[0mserver\u001b[0m\u001b[1;33m,\u001b[0m \u001b[0msock_info\u001b[0m\u001b[1;33m,\u001b[0m \u001b[0msecondary_ok\u001b[0m\u001b[1;33m)\u001b[0m\u001b[1;33m\u001b[0m\u001b[1;33m\u001b[0m\u001b[0m\n\u001b[0m\u001b[0;32m   1526\u001b[0m             \u001b[1;32mexcept\u001b[0m \u001b[0mServerSelectionTimeoutError\u001b[0m\u001b[1;33m:\u001b[0m\u001b[1;33m\u001b[0m\u001b[1;33m\u001b[0m\u001b[0m\n\u001b[0;32m   1527\u001b[0m                 \u001b[1;32mif\u001b[0m \u001b[0mretrying\u001b[0m\u001b[1;33m:\u001b[0m\u001b[1;33m\u001b[0m\u001b[1;33m\u001b[0m\u001b[0m\n",
      "\u001b[1;32m~\\AppData\\Local\\Programs\\Python\\Python39\\lib\\site-packages\\pymongo\\database.py\u001b[0m in \u001b[0;36m_cmd\u001b[1;34m(session, server, sock_info, secondary_okay)\u001b[0m\n\u001b[0;32m    836\u001b[0m \u001b[1;33m\u001b[0m\u001b[0m\n\u001b[0;32m    837\u001b[0m         \u001b[1;32mdef\u001b[0m \u001b[0m_cmd\u001b[0m\u001b[1;33m(\u001b[0m\u001b[0msession\u001b[0m\u001b[1;33m,\u001b[0m \u001b[0mserver\u001b[0m\u001b[1;33m,\u001b[0m \u001b[0msock_info\u001b[0m\u001b[1;33m,\u001b[0m \u001b[0msecondary_okay\u001b[0m\u001b[1;33m)\u001b[0m\u001b[1;33m:\u001b[0m\u001b[1;33m\u001b[0m\u001b[1;33m\u001b[0m\u001b[0m\n\u001b[1;32m--> 838\u001b[1;33m             return self._list_collections(\n\u001b[0m\u001b[0;32m    839\u001b[0m                 \u001b[0msock_info\u001b[0m\u001b[1;33m,\u001b[0m \u001b[0msecondary_okay\u001b[0m\u001b[1;33m,\u001b[0m \u001b[0msession\u001b[0m\u001b[1;33m,\u001b[0m \u001b[0mread_preference\u001b[0m\u001b[1;33m=\u001b[0m\u001b[0mread_pref\u001b[0m\u001b[1;33m,\u001b[0m\u001b[1;33m\u001b[0m\u001b[1;33m\u001b[0m\u001b[0m\n\u001b[0;32m    840\u001b[0m                 **kwargs)\n",
      "\u001b[1;32m~\\AppData\\Local\\Programs\\Python\\Python39\\lib\\site-packages\\pymongo\\database.py\u001b[0m in \u001b[0;36m_list_collections\u001b[1;34m(self, sock_info, secondary_okay, session, read_preference, **kwargs)\u001b[0m\n\u001b[0;32m    783\u001b[0m             with self.__client._tmp_session(\n\u001b[0;32m    784\u001b[0m                     session, close=False) as tmp_session:\n\u001b[1;32m--> 785\u001b[1;33m                 cursor = self._command(\n\u001b[0m\u001b[0;32m    786\u001b[0m                     \u001b[0msock_info\u001b[0m\u001b[1;33m,\u001b[0m \u001b[0mcmd\u001b[0m\u001b[1;33m,\u001b[0m \u001b[0msecondary_okay\u001b[0m\u001b[1;33m,\u001b[0m\u001b[1;33m\u001b[0m\u001b[1;33m\u001b[0m\u001b[0m\n\u001b[0;32m    787\u001b[0m                     \u001b[0mread_preference\u001b[0m\u001b[1;33m=\u001b[0m\u001b[0mread_preference\u001b[0m\u001b[1;33m,\u001b[0m\u001b[1;33m\u001b[0m\u001b[1;33m\u001b[0m\u001b[0m\n",
      "\u001b[1;32m~\\AppData\\Local\\Programs\\Python\\Python39\\lib\\site-packages\\pymongo\\database.py\u001b[0m in \u001b[0;36m_command\u001b[1;34m(self, sock_info, command, secondary_ok, value, check, allowable_errors, read_preference, codec_options, write_concern, parse_write_concern_error, session, **kwargs)\u001b[0m\n\u001b[0;32m    633\u001b[0m         \u001b[0mcommand\u001b[0m\u001b[1;33m.\u001b[0m\u001b[0mupdate\u001b[0m\u001b[1;33m(\u001b[0m\u001b[0mkwargs\u001b[0m\u001b[1;33m)\u001b[0m\u001b[1;33m\u001b[0m\u001b[1;33m\u001b[0m\u001b[0m\n\u001b[0;32m    634\u001b[0m         \u001b[1;32mwith\u001b[0m \u001b[0mself\u001b[0m\u001b[1;33m.\u001b[0m\u001b[0m__client\u001b[0m\u001b[1;33m.\u001b[0m\u001b[0m_tmp_session\u001b[0m\u001b[1;33m(\u001b[0m\u001b[0msession\u001b[0m\u001b[1;33m)\u001b[0m \u001b[1;32mas\u001b[0m \u001b[0ms\u001b[0m\u001b[1;33m:\u001b[0m\u001b[1;33m\u001b[0m\u001b[1;33m\u001b[0m\u001b[0m\n\u001b[1;32m--> 635\u001b[1;33m             return sock_info.command(\n\u001b[0m\u001b[0;32m    636\u001b[0m                 \u001b[0mself\u001b[0m\u001b[1;33m.\u001b[0m\u001b[0m__name\u001b[0m\u001b[1;33m,\u001b[0m\u001b[1;33m\u001b[0m\u001b[1;33m\u001b[0m\u001b[0m\n\u001b[0;32m    637\u001b[0m                 \u001b[0mcommand\u001b[0m\u001b[1;33m,\u001b[0m\u001b[1;33m\u001b[0m\u001b[1;33m\u001b[0m\u001b[0m\n",
      "\u001b[1;32m~\\AppData\\Local\\Programs\\Python\\Python39\\lib\\site-packages\\pymongo\\pool.py\u001b[0m in \u001b[0;36mcommand\u001b[1;34m(self, dbname, spec, secondary_ok, read_preference, codec_options, check, allowable_errors, check_keys, read_concern, write_concern, parse_write_concern_error, collation, session, client, retryable_write, publish_events, user_fields, exhaust_allowed)\u001b[0m\n\u001b[0;32m    708\u001b[0m             \u001b[0mself\u001b[0m\u001b[1;33m.\u001b[0m\u001b[0m_raise_if_not_writable\u001b[0m\u001b[1;33m(\u001b[0m\u001b[0munacknowledged\u001b[0m\u001b[1;33m)\u001b[0m\u001b[1;33m\u001b[0m\u001b[1;33m\u001b[0m\u001b[0m\n\u001b[0;32m    709\u001b[0m         \u001b[1;32mtry\u001b[0m\u001b[1;33m:\u001b[0m\u001b[1;33m\u001b[0m\u001b[1;33m\u001b[0m\u001b[0m\n\u001b[1;32m--> 710\u001b[1;33m             return command(self, dbname, spec, secondary_ok,\n\u001b[0m\u001b[0;32m    711\u001b[0m                            \u001b[0mself\u001b[0m\u001b[1;33m.\u001b[0m\u001b[0mis_mongos\u001b[0m\u001b[1;33m,\u001b[0m \u001b[0mread_preference\u001b[0m\u001b[1;33m,\u001b[0m \u001b[0mcodec_options\u001b[0m\u001b[1;33m,\u001b[0m\u001b[1;33m\u001b[0m\u001b[1;33m\u001b[0m\u001b[0m\n\u001b[0;32m    712\u001b[0m                            \u001b[0msession\u001b[0m\u001b[1;33m,\u001b[0m \u001b[0mclient\u001b[0m\u001b[1;33m,\u001b[0m \u001b[0mcheck\u001b[0m\u001b[1;33m,\u001b[0m \u001b[0mallowable_errors\u001b[0m\u001b[1;33m,\u001b[0m\u001b[1;33m\u001b[0m\u001b[1;33m\u001b[0m\u001b[0m\n",
      "\u001b[1;32m~\\AppData\\Local\\Programs\\Python\\Python39\\lib\\site-packages\\pymongo\\network.py\u001b[0m in \u001b[0;36mcommand\u001b[1;34m(sock_info, dbname, spec, secondary_ok, is_mongos, read_preference, codec_options, session, client, check, allowable_errors, address, check_keys, listeners, max_bson_size, read_concern, parse_write_concern_error, collation, compression_ctx, use_op_msg, unacknowledged, user_fields, exhaust_allowed)\u001b[0m\n\u001b[0;32m    156\u001b[0m                 \u001b[0mclient\u001b[0m\u001b[1;33m.\u001b[0m\u001b[0m_process_response\u001b[0m\u001b[1;33m(\u001b[0m\u001b[0mresponse_doc\u001b[0m\u001b[1;33m,\u001b[0m \u001b[0msession\u001b[0m\u001b[1;33m)\u001b[0m\u001b[1;33m\u001b[0m\u001b[1;33m\u001b[0m\u001b[0m\n\u001b[0;32m    157\u001b[0m             \u001b[1;32mif\u001b[0m \u001b[0mcheck\u001b[0m\u001b[1;33m:\u001b[0m\u001b[1;33m\u001b[0m\u001b[1;33m\u001b[0m\u001b[0m\n\u001b[1;32m--> 158\u001b[1;33m                 helpers._check_command_response(\n\u001b[0m\u001b[0;32m    159\u001b[0m                     \u001b[0mresponse_doc\u001b[0m\u001b[1;33m,\u001b[0m \u001b[0msock_info\u001b[0m\u001b[1;33m.\u001b[0m\u001b[0mmax_wire_version\u001b[0m\u001b[1;33m,\u001b[0m \u001b[0mallowable_errors\u001b[0m\u001b[1;33m,\u001b[0m\u001b[1;33m\u001b[0m\u001b[1;33m\u001b[0m\u001b[0m\n\u001b[0;32m    160\u001b[0m                     parse_write_concern_error=parse_write_concern_error)\n",
      "\u001b[1;32m~\\AppData\\Local\\Programs\\Python\\Python39\\lib\\site-packages\\pymongo\\helpers.py\u001b[0m in \u001b[0;36m_check_command_response\u001b[1;34m(response, max_wire_version, allowable_errors, parse_write_concern_error)\u001b[0m\n\u001b[0;32m    165\u001b[0m         \u001b[1;32mraise\u001b[0m \u001b[0mCursorNotFound\u001b[0m\u001b[1;33m(\u001b[0m\u001b[0merrmsg\u001b[0m\u001b[1;33m,\u001b[0m \u001b[0mcode\u001b[0m\u001b[1;33m,\u001b[0m \u001b[0mresponse\u001b[0m\u001b[1;33m,\u001b[0m \u001b[0mmax_wire_version\u001b[0m\u001b[1;33m)\u001b[0m\u001b[1;33m\u001b[0m\u001b[1;33m\u001b[0m\u001b[0m\n\u001b[0;32m    166\u001b[0m \u001b[1;33m\u001b[0m\u001b[0m\n\u001b[1;32m--> 167\u001b[1;33m     \u001b[1;32mraise\u001b[0m \u001b[0mOperationFailure\u001b[0m\u001b[1;33m(\u001b[0m\u001b[0merrmsg\u001b[0m\u001b[1;33m,\u001b[0m \u001b[0mcode\u001b[0m\u001b[1;33m,\u001b[0m \u001b[0mresponse\u001b[0m\u001b[1;33m,\u001b[0m \u001b[0mmax_wire_version\u001b[0m\u001b[1;33m)\u001b[0m\u001b[1;33m\u001b[0m\u001b[1;33m\u001b[0m\u001b[0m\n\u001b[0m\u001b[0;32m    168\u001b[0m \u001b[1;33m\u001b[0m\u001b[0m\n\u001b[0;32m    169\u001b[0m \u001b[1;33m\u001b[0m\u001b[0m\n",
      "\u001b[1;31mOperationFailure\u001b[0m: BSON field 'listCollections.include_system_collections' is an unknown field., full error: {'ok': 0.0, 'errmsg': \"BSON field 'listCollections.include_system_collections' is an unknown field.\", 'code': 40415, 'codeName': 'Location40415'}"
     ]
    }
   ],
   "source": [
    "#getting collections from db \"e-learning\"\n",
    "db_connect = pymongo.MongoClient('localhost', 27017) # change local host here\n",
    "database_name = \"e-learning\" # change dbname here\n",
    "database = db_connect[database_name]\n",
    "collections = database.list_collection_names(include_system_collections=False)\n",
    "print(len(collections)) # number of collections"
   ]
  },
  {
   "cell_type": "code",
   "execution_count": 468,
   "metadata": {},
   "outputs": [
    {
     "name": "stdout",
     "output_type": "stream",
     "text": [
      "level_types_content\n",
      "subscribes_content\n",
      "student_activities_content\n",
      "city_provinces_content\n",
      "education_levels_content\n",
      "default_schools_content\n",
      "districts_content\n",
      "notifications_content\n",
      "server_logs_content\n",
      "file_datas_content\n",
      "request_publish_courses_content\n",
      "activity_logs_content\n",
      "fcms_content\n",
      "thumbnail_logs_content\n",
      "student_enrolls_content\n",
      "favorite_courses_content\n",
      "staff_titles_content\n",
      "counters_content\n",
      "course_contents_content\n",
      "staffs_content\n",
      "youtube_histories_content\n",
      "communes_content\n",
      "roles_content\n",
      "edit_records_content\n",
      "video_encoding_logs_content\n",
      "course_discussions_content\n",
      "announcements_content\n",
      "students_content\n",
      "subjects_content\n",
      "courses_content\n",
      "discussion_replies_content\n",
      "schools_content\n",
      "instruction_videos_content\n",
      "youtube_videos_content\n"
     ]
    }
   ],
   "source": [
    "# getting and converting data from each collections to dataframe\n",
    "for i in collections:\n",
    "    collection_name = dbname[i]\n",
    "    item_details = collection_name.find()\n",
    "    content = []\n",
    "    for item in item_details:\n",
    "        content.append(item)\n",
    "    globals()[i + \"_content\"] = pd.DataFrame(content) #generating \n",
    "#     pd.DataFrame(content).to_csv(\"./i + \"_content.csv\", index = False)\n",
    "    print(i + \"_content\")\n",
    "    \n",
    "    #         collection_name = dbname[\"students\"]\n",
    "#     item_details = collection_name.find()\n",
    "#     students_content = []\n",
    "#     for item in item_details:\n",
    "#         # This does not give a very readable output\n",
    "#         students_content.append(item)"
   ]
  },
  {
   "cell_type": "code",
   "execution_count": 460,
   "metadata": {},
   "outputs": [],
   "source": [
    "pd.DataFrame(content).to_csv(\"test.csv\", index = False)"
   ]
  },
  {
   "cell_type": "code",
   "execution_count": 104,
   "metadata": {},
   "outputs": [
    {
     "data": {
      "text/plain": [
       "5    [6098c5ee572591105f050865, 6098a897e934b71019f...\n",
       "Name: course_contents, dtype: object"
      ]
     },
     "execution_count": 104,
     "metadata": {},
     "output_type": "execute_result"
    }
   ],
   "source": [
    "# Accessing lesson with respective ID in 2 ways\n",
    "#Way 1\n",
    "courses_content.loc[courses_content[\"_id\"] == ObjectId(\"6098a809ada1c61054ab9baf\")][[\"view_count\", \"course_contents\"]].iloc[:,1]\n",
    "#Way 2\n",
    "#find courses name in according with respective course ID\n",
    "## courses_content.loc[courses_content[\"_id\"] == \"condition to identify course id\"][\"name\"]\n",
    "# courses_content.loc[courses_content[\"_id\"] == course_contents_content.loc[course_contents_content[\"_id\"] == ObjectId(\"60b85eb9b7e0ea67ef830e68\")][\"courses\"].iloc[0]][\"name\"]"
   ]
  },
  {
   "cell_type": "code",
   "execution_count": 100,
   "metadata": {},
   "outputs": [
    {
     "data": {
      "text/plain": [
       "5    មេរៀនទី៧ ស្ថិតិ\n",
       "Name: name, dtype: object"
      ]
     },
     "execution_count": 100,
     "metadata": {},
     "output_type": "execute_result"
    }
   ],
   "source": [
    "#Course Enrollment: get which course are most enrolled\n",
    "## get connect with courses_content (id)\n",
    "student_enrolls_content[\"courses\"].describe() # 6098a809ada1c61054ab9baf with 18 frq\n",
    "\n",
    "#Getting name of which course gets enrolled the most\n",
    "courses_content.loc[courses_content[\"enrolled_count\"] == student_enrolls_content[\"courses\"].describe()[3], \"name\"]"
   ]
  },
  {
   "cell_type": "code",
   "execution_count": 109,
   "metadata": {},
   "outputs": [
    {
     "data": {
      "text/plain": [
       "[ObjectId('6098a6f3a3d06d13536860c2'),\n",
       " ObjectId('6098a6fa98a1111330b75837'),\n",
       " ObjectId('6098a7efe934b71019f583d7'),\n",
       " ObjectId('6098ade9adadc310362e413c'),\n",
       " ObjectId('6098b266572591105f050825'),\n",
       " ObjectId('6098b37be9db40107d742732'),\n",
       " ObjectId('6098c0ad946da8130d466d58'),\n",
       " ObjectId('6098e07e01c156105d56a58e'),\n",
       " ObjectId('6098e8b02f4c41131d66b8da'),\n",
       " ObjectId('6098ebdb84286213144b6d88'),\n",
       " ObjectId('6098edfeadadc310362e531c')]"
      ]
     },
     "execution_count": 109,
     "metadata": {},
     "output_type": "execute_result"
    }
   ],
   "source": [
    "courses_content[\"course_contents\"][0]"
   ]
  },
  {
   "cell_type": "code",
   "execution_count": 120,
   "metadata": {},
   "outputs": [
    {
     "data": {
      "text/plain": [
       "133"
      ]
     },
     "execution_count": 120,
     "metadata": {},
     "output_type": "execute_result"
    }
   ],
   "source": [
    "len(student_enrolls_content[\"students\"].unique())"
   ]
  },
  {
   "cell_type": "markdown",
   "metadata": {},
   "source": [
    "## Cleaning procedure\n",
    "\n",
    "- Checking relationships between [courses] and [course_contents]\n",
    "    - for each __\"id\"__ in __[courses]__ can have multiple __\"course_contents\"__\n",
    "    - __\"courses\"__ in __[student_enrolls]__ <-> __\"id\"__ in __[courses]__\n",
    "   "
   ]
  },
  {
   "cell_type": "code",
   "execution_count": 5,
   "metadata": {},
   "outputs": [],
   "source": [
    "#Satya's ID\n",
    "60981ece1e4b5a12ff6bf41d\n",
    "6098d8a0a33c5c13108d8ee0"
   ]
  },
  {
   "cell_type": "code",
   "execution_count": 265,
   "metadata": {},
   "outputs": [
    {
     "data": {
      "text/plain": [
       "[['ជំពូកទី៥: សមីការឌីផេរ៉ង់ស្យែល'],\n",
       " ['ជំពូកទី១ តារាងខួបនៃធាតុគីមី'],\n",
       " ['ជំពូកទី១៖ តារាងខួបនៃធាតុគីមី'],\n",
       " ['មេរៀនទី៧ ស្ថិតិ'],\n",
       " ['មេរៀនទី១៨ សូលីត'],\n",
       " ['ជំពូកទីី៤ គីមីសរីរាង្គ'],\n",
       " ['មេរៀនទី១៧ ពហុកោណ'],\n",
       " ['ជំពូកទី៥ អនុគមន៍'],\n",
       " ['មេរៀនទី១៧ ពហុកោណ'],\n",
       " ['ជំពូកទី៤ អេឡិចត្រូម៉ាញេទិច'],\n",
       " ['មេរៀនទី៨ ការសម្រេចចិត្ត'],\n",
       " ['ជំពូកទី៤ ដង្ហើម និងដំណឹកនាំ'],\n",
       " ['មេរៀនទី៧ ការជឿជាក់'],\n",
       " ['ជំពូកទី៣ ទឹក និងសូលុយស្យុង'],\n",
       " ['មេរៀនទី៧ ប្រពៃណីទំនៀមទម្លាប់'],\n",
       " ['មេរៀនទី១០ សមីការនៃបន្ទាត់'],\n",
       " ['ជំពូកទី៣ អគ្គិសនី'],\n",
       " ['ជំពូកទី៥ អាល់កុល និងថ្នាំជក់'],\n",
       " ['មេរៀនទី៥ ល្ខោន'],\n",
       " ['ជំពូកទី១ ពិភពលោក'],\n",
       " ['A'],\n",
       " ['ជំពូកទី១ ប្រវត្តិសាស្រ្តពិភពលោក'],\n",
       " ['មេរៀនទី៨ ប្រូបាប'],\n",
       " ['ជំពូកទី១ រស្មីសំយោគ'],\n",
       " ['មេរៀនទី១ ចំនួនអសនិទាន'],\n",
       " ['មេរៀនទី៧ រង្វាស់រង្វាល់'],\n",
       " ['មេរៀនទី១ ចំនួនគត់'],\n",
       " ['មេរៀនទី២ វិធីគុណ'],\n",
       " ['មេរៀនទី១ សេចក្ដីស្រលាញ់'],\n",
       " ['ជំពូក១ មេកានិច'],\n",
       " ['មេរៀនទី១ អក្សរសិល្ប៍ខេមរនិយម'],\n",
       " ['ជំពូកទី៤ អាំងតេក្រាល'],\n",
       " ['មេរៀនទី១ ទំហំ'],\n",
       " ['ជំពូកទី១ ប្រវត្តិសាស្ត្រពិភពលោក'],\n",
       " ['ជំពូក១ ស្វុីត'],\n",
       " ['ជំពូកទី១ កម្ដៅ'],\n",
       " ['ជំពូកទី៤ នាទីរបស់ប្រូតេអ៊ីុនក្នុងសារពាង្គកាយ'],\n",
       " ['មេរៀនទី៥ ចំនួនទសភាគ'],\n",
       " ['មេរៀនទី១ ចំនួន '],\n",
       " ['មេរៀនទី៨០  ថ្ងៃបុណ្យចូលឆ្នាំ ']]"
      ]
     },
     "execution_count": 265,
     "metadata": {},
     "output_type": "execute_result"
    }
   ],
   "source": [
    "#number and list of registered courses for each student ID\n",
    "list_courses_IDregistered = student_enrolls_content.loc[student_enrolls_content[\"students\"] == ObjectId(\"6098d8a0a33c5c13108d8ee0\")][\"courses\"].tolist()\n",
    "#for one registered course (ជំពូក) id refers to multiple lessons inside (មេរៀន)\n",
    "[courses_content.loc[courses_content[\"_id\"] == i][\"name\"].tolist() for i in list_courses_IDregistered]"
   ]
  },
  {
   "cell_type": "code",
   "execution_count": 440,
   "metadata": {},
   "outputs": [
    {
     "name": "stdout",
     "output_type": "stream",
     "text": [
      "['មេរៀនទី១: សមីការឌីផេរ៉ង់ស្យែលលីនេអ៊ែលំដាប់ទី១']\n",
      "['មេរៀនសមីការឌីផេរ៉ង់ស្យែលលីនេអ៊ែលំដាប់ទី១(Part1)']\n",
      "['មេរៀនសមីការឌីផេរ៉ង់ស្យែលលីនេអ៊ែលំដាប់ទី១ (Part 2-End)']\n",
      "['មេរៀនទី២: សមីការឌីផេរ៉ង់ស្យែលលីនេអ៊ែលំដាប់ទី២']\n",
      "['មេរៀនសមីការឌីផេរ៉ង់ស្យែលលីនេអ៊ែលំដាប់ទី២']\n",
      "['លំហាត់គំរូ Part1(1&2)']\n",
      "['លំហាត់គំរូ Part2(3)']\n"
     ]
    }
   ],
   "source": [
    "###getting course content \n",
    "### ?? why one course has multiple IDs?? --> \n",
    "content_in_course = courses_content.loc[courses_content[\"name\"] == 'ជំពូកទី៥: សមីការឌីផេរ៉ង់ស្យែល'][\"course_contents\"].tolist()\n",
    "for i in range(len(content_in_course)):\n",
    "    for j in range(len(content_in_course[i])):\n",
    "        print(course_contents_content.loc[course_contents_content[\"_id\"] == content_in_course[i][j]][\"name\"].tolist())\n",
    "        \n",
    "# course_contents_content.loc[course_contents_content[\"_id\"] == content_in_course[0][0]][\"name\"].tolist()\n",
    "#         course_contents_content.loc[course_contents_content[\"_id\"] == content_in_course[i][j]][\"name\"].tolist()"
   ]
  },
  {
   "cell_type": "code",
   "execution_count": 448,
   "metadata": {},
   "outputs": [
    {
     "data": {
      "text/plain": [
       "175.7"
      ]
     },
     "execution_count": 448,
     "metadata": {},
     "output_type": "execute_result"
    }
   ],
   "source": [
    "# len(student_activities_content.loc[student_activities_content[\"is_completed\"] == True][\"students\"].unique())\n",
    "import numpy as np\n",
    "np.nansum(student_activities_content[\"watch_duration\"])/3600"
   ]
  },
  {
   "cell_type": "code",
   "execution_count": 296,
   "metadata": {},
   "outputs": [
    {
     "data": {
      "text/plain": [
       "3    រូបវិទ្យា\n",
       "Name: name, dtype: object"
      ]
     },
     "execution_count": 296,
     "metadata": {},
     "output_type": "execute_result"
    }
   ],
   "source": [
    "#use subject id in [course] to get subject name\n",
    "subjects_content.loc[subjects_content[\"_id\"] == ObjectId(courses_content[\"subjects\"].unique().tolist()[4])][\"name\"]"
   ]
  },
  {
   "cell_type": "code",
   "execution_count": 451,
   "metadata": {},
   "outputs": [
    {
     "data": {
      "text/html": [
       "<div>\n",
       "<style scoped>\n",
       "    .dataframe tbody tr th:only-of-type {\n",
       "        vertical-align: middle;\n",
       "    }\n",
       "\n",
       "    .dataframe tbody tr th {\n",
       "        vertical-align: top;\n",
       "    }\n",
       "\n",
       "    .dataframe thead th {\n",
       "        text-align: right;\n",
       "    }\n",
       "</style>\n",
       "<table border=\"1\" class=\"dataframe\">\n",
       "  <thead>\n",
       "    <tr style=\"text-align: right;\">\n",
       "      <th></th>\n",
       "      <th>first_name</th>\n",
       "      <th>last_name</th>\n",
       "    </tr>\n",
       "  </thead>\n",
       "  <tbody>\n",
       "    <tr>\n",
       "      <th>10</th>\n",
       "      <td>Satsya</td>\n",
       "      <td>Nhoem</td>\n",
       "    </tr>\n",
       "  </tbody>\n",
       "</table>\n",
       "</div>"
      ],
      "text/plain": [
       "   first_name last_name\n",
       "10     Satsya     Nhoem"
      ]
     },
     "execution_count": 451,
     "metadata": {},
     "output_type": "execute_result"
    }
   ],
   "source": [
    "#find students with id\n",
    "students_content.loc[students_content[\"_id\"] == ObjectId(\"6098dab798a1111330b7623c\")][[\"first_name\", \"last_name\"]]"
   ]
  },
  {
   "cell_type": "code",
   "execution_count": 297,
   "metadata": {},
   "outputs": [
    {
     "data": {
      "text/plain": [
       "Index(['__v', '_id', 'address', 'createdAt', 'date_of_birth',\n",
       "       'default_schools', 'education_levels', 'first_name', 'gender',\n",
       "       'last_name', 'level_types', 'logins', 'profile_image', 'roles',\n",
       "       'status', 'updatedAt'],\n",
       "      dtype='object')"
      ]
     },
     "execution_count": 297,
     "metadata": {},
     "output_type": "execute_result"
    }
   ],
   "source": [
    "students_content.columns"
   ]
  },
  {
   "cell_type": "code",
   "execution_count": 304,
   "metadata": {},
   "outputs": [
    {
     "data": {
      "text/plain": [
       "5    មេរៀនទី៧ ស្ថិតិ\n",
       "Name: name, dtype: object"
      ]
     },
     "execution_count": 304,
     "metadata": {},
     "output_type": "execute_result"
    }
   ],
   "source": [
    "courses_content.loc[courses_content[\"_id\"]==favorite_courses_content.loc[favorite_courses_content[\"students\"]==ObjectId(\"6098d70301c156105d56a587\")][\"courses\"].tolist()[0]][\"name\"]\n",
    "#getting the most popular course"
   ]
  },
  {
   "cell_type": "code",
   "execution_count": 353,
   "metadata": {},
   "outputs": [
    {
     "name": "stdout",
     "output_type": "stream",
     "text": [
      "[(ObjectId('6098d8a0a33c5c13108d8ee0'), 40), (ObjectId('6095728f83c32a0468b97de0'), 16), (ObjectId('60d68de5147675465092b0ae'), 15)]\n",
      "  first_name last_name\n",
      "9     Satsya     Nhoem\n",
      "  first_name last_name\n",
      "0      lalin      jame\n",
      "   first_name last_name\n",
      "72    ជ័យខេមា        ឯម\n"
     ]
    }
   ],
   "source": [
    "# Getting top 3 students who registered the most\n",
    "from collections import Counter\n",
    "list_top_3 = Counter(student_enrolls_content[\"students\"].tolist()).most_common()[:3]\n",
    "# sorted(range(len(student_enrolls_content[\"students\"])), key= lambda i: student_enrolls_content[\"students\"][i], reverse=True)[:3]\n",
    "print(list_top_3)\n",
    "for j in list_top_3:\n",
    "    print(students_content.loc[students_content[\"_id\"]==j[0]][[\"first_name\",\"last_name\"]])"
   ]
  },
  {
   "cell_type": "code",
   "execution_count": 354,
   "metadata": {},
   "outputs": [
    {
     "data": {
      "text/plain": [
       "Index(['__v', '_id', 'address', 'createdAt', 'date_of_birth',\n",
       "       'default_schools', 'education_levels', 'first_name', 'gender',\n",
       "       'last_name', 'level_types', 'logins', 'profile_image', 'roles',\n",
       "       'status', 'updatedAt'],\n",
       "      dtype='object')"
      ]
     },
     "execution_count": 354,
     "metadata": {},
     "output_type": "execute_result"
    }
   ],
   "source": [
    "students_content.columns"
   ]
  },
  {
   "cell_type": "code",
   "execution_count": 343,
   "metadata": {},
   "outputs": [
    {
     "data": {
      "text/html": [
       "<div>\n",
       "<style scoped>\n",
       "    .dataframe tbody tr th:only-of-type {\n",
       "        vertical-align: middle;\n",
       "    }\n",
       "\n",
       "    .dataframe tbody tr th {\n",
       "        vertical-align: top;\n",
       "    }\n",
       "\n",
       "    .dataframe thead th {\n",
       "        text-align: right;\n",
       "    }\n",
       "</style>\n",
       "<table border=\"1\" class=\"dataframe\">\n",
       "  <thead>\n",
       "    <tr style=\"text-align: right;\">\n",
       "      <th></th>\n",
       "      <th>first_name</th>\n",
       "      <th>last_name</th>\n",
       "    </tr>\n",
       "  </thead>\n",
       "  <tbody>\n",
       "    <tr>\n",
       "      <th>9</th>\n",
       "      <td>Satsya</td>\n",
       "      <td>Nhoem</td>\n",
       "    </tr>\n",
       "  </tbody>\n",
       "</table>\n",
       "</div>"
      ],
      "text/plain": [
       "  first_name last_name\n",
       "9     Satsya     Nhoem"
      ]
     },
     "execution_count": 343,
     "metadata": {},
     "output_type": "execute_result"
    }
   ],
   "source": [
    "#getting students who registered the most in [student_enrolls]\n",
    "# students_content.loc[students_content[\"_id\"]==student_enrolls_content[\"students\"].describe()[2]][[\"first_name\",\"last_name\"]]\n",
    "students_content.loc[students_content[\"_id\"]==student_enrolls_content[\"students\"].describe()[2]][[\"first_name\",\"last_name\"]]"
   ]
  },
  {
   "cell_type": "code",
   "execution_count": 329,
   "metadata": {},
   "outputs": [
    {
     "data": {
      "text/plain": [
       "ObjectId('6095728f83c32a0468b97de0')"
      ]
     },
     "execution_count": 329,
     "metadata": {},
     "output_type": "execute_result"
    }
   ],
   "source": [
    "student_enrolls_content[\"students\"][0]"
   ]
  },
  {
   "cell_type": "code",
   "execution_count": 362,
   "metadata": {},
   "outputs": [
    {
     "data": {
      "text/plain": [
       "394"
      ]
     },
     "execution_count": 362,
     "metadata": {},
     "output_type": "execute_result"
    }
   ],
   "source": [
    "len(student_enrolls_content[\"students\"].tolist())"
   ]
  },
  {
   "cell_type": "code",
   "execution_count": 361,
   "metadata": {},
   "outputs": [
    {
     "data": {
      "text/plain": [
       "133"
      ]
     },
     "execution_count": 361,
     "metadata": {},
     "output_type": "execute_result"
    }
   ],
   "source": [
    "len(student_enrolls_content[\"students\"].unique())"
   ]
  },
  {
   "cell_type": "markdown",
   "metadata": {},
   "source": [
    "## Checking if students are actually learning\n",
    "- Students might register but not actually follow the lecture\n",
    "- Follow student activities, specifically looking into \"watch duration\" if that surpasses a certain threshold, we define that as \"__learner__\".\n",
    "- \"__active learner__\" those who *keep coming* and *active on discussion*, longer watch duration\n"
   ]
  },
  {
   "cell_type": "code",
   "execution_count": 452,
   "metadata": {},
   "outputs": [
    {
     "data": {
      "text/html": [
       "<div>\n",
       "<style scoped>\n",
       "    .dataframe tbody tr th:only-of-type {\n",
       "        vertical-align: middle;\n",
       "    }\n",
       "\n",
       "    .dataframe tbody tr th {\n",
       "        vertical-align: top;\n",
       "    }\n",
       "\n",
       "    .dataframe thead th {\n",
       "        text-align: right;\n",
       "    }\n",
       "</style>\n",
       "<table border=\"1\" class=\"dataframe\">\n",
       "  <thead>\n",
       "    <tr style=\"text-align: right;\">\n",
       "      <th></th>\n",
       "      <th>_id</th>\n",
       "      <th>role_name</th>\n",
       "    </tr>\n",
       "  </thead>\n",
       "  <tbody>\n",
       "    <tr>\n",
       "      <th>0</th>\n",
       "      <td>1.0</td>\n",
       "      <td>admin</td>\n",
       "    </tr>\n",
       "    <tr>\n",
       "      <th>1</th>\n",
       "      <td>3.0</td>\n",
       "      <td>teacher</td>\n",
       "    </tr>\n",
       "    <tr>\n",
       "      <th>2</th>\n",
       "      <td>5.0</td>\n",
       "      <td>reviewer</td>\n",
       "    </tr>\n",
       "    <tr>\n",
       "      <th>3</th>\n",
       "      <td>2.0</td>\n",
       "      <td>school</td>\n",
       "    </tr>\n",
       "    <tr>\n",
       "      <th>4</th>\n",
       "      <td>4.0</td>\n",
       "      <td>student</td>\n",
       "    </tr>\n",
       "  </tbody>\n",
       "</table>\n",
       "</div>"
      ],
      "text/plain": [
       "   _id role_name\n",
       "0  1.0     admin\n",
       "1  3.0   teacher\n",
       "2  5.0  reviewer\n",
       "3  2.0    school\n",
       "4  4.0   student"
      ]
     },
     "execution_count": 452,
     "metadata": {},
     "output_type": "execute_result"
    }
   ],
   "source": [
    "roles_content"
   ]
  },
  {
   "cell_type": "code",
   "execution_count": 453,
   "metadata": {},
   "outputs": [],
   "source": [
    "import pandas as pd\n",
    "import numpy as np\n",
    "from scipy.special import expit\n",
    "import seaborn as sns\n",
    "from matplotlib import pyplot as plt\n",
    "from matplotlib import style\n",
    "\n",
    "style.use(\"fivethirtyeight\")\n",
    "\n",
    "np.random.seed(123)\n",
    "n = 100\n",
    "tuition = np.random.normal(1000, 300, n).round()\n",
    "tablet = np.random.binomial(1, expit((tuition - tuition.mean()) / tuition.std())).astype(bool) # create binary variable\n",
    "enem_score = np.random.normal(200 - 50 * tablet + 0.7 * tuition, 200)\n",
    "enem_score = (enem_score - enem_score.min()) / enem_score.max()\n",
    "enem_score *= 1000"
   ]
  },
  {
   "cell_type": "code",
   "execution_count": 454,
   "metadata": {},
   "outputs": [
    {
     "data": {
      "text/plain": [
       "array([False,  True, False, False, False, False,  True, False,  True,\n",
       "       False,  True,  True,  True, False,  True, False,  True,  True,\n",
       "        True, False, False,  True, False,  True, False, False,  True,\n",
       "       False,  True, False, False, False, False, False, False,  True,\n",
       "       False, False, False,  True, False, False,  True, False, False,\n",
       "       False,  True, False,  True,  True, False,  True,  True,  True,\n",
       "       False,  True, False,  True, False, False,  True,  True,  True,\n",
       "       False,  True,  True, False, False, False, False,  True,  True,\n",
       "        True, False,  True,  True, False,  True, False, False,  True,\n",
       "       False,  True, False, False, False, False, False,  True, False,\n",
       "       False, False,  True,  True,  True,  True,  True, False,  True,\n",
       "        True])"
      ]
     },
     "execution_count": 454,
     "metadata": {},
     "output_type": "execute_result"
    }
   ],
   "source": [
    "tablet"
   ]
  },
  {
   "cell_type": "code",
   "execution_count": 455,
   "metadata": {},
   "outputs": [
    {
     "name": "stdout",
     "output_type": "stream",
     "text": [
      "Object `np.random.binomal` not found.\n"
     ]
    }
   ],
   "source": [
    "(data\n",
    " .assign(class_format = np.select(\n",
    "     [data[\"format_ol\"].astype(bool), data[\"format_blended\"].astype(bool)],\n",
    "     [\"online\", \"blended\"],\n",
    "     default=\"face_to_face\"\n",
    " ))\n",
    " .groupby([\"class_format\"])\n",
    " .mean())"
   ]
  },
  {
   "cell_type": "code",
   "execution_count": null,
   "metadata": {},
   "outputs": [],
   "source": []
  }
 ],
 "metadata": {
  "kernelspec": {
   "display_name": "Python 3 (ipykernel)",
   "language": "python",
   "name": "python3"
  },
  "language_info": {
   "codemirror_mode": {
    "name": "ipython",
    "version": 3
   },
   "file_extension": ".py",
   "mimetype": "text/x-python",
   "name": "python",
   "nbconvert_exporter": "python",
   "pygments_lexer": "ipython3",
   "version": "3.9.6"
  }
 },
 "nbformat": 4,
 "nbformat_minor": 2
}
